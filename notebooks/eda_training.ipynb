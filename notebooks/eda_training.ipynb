{
 "cells": [
  {
   "cell_type": "code",
   "execution_count": 1,
   "id": "4e2a3e0b",
   "metadata": {},
   "outputs": [
    {
     "name": "stdout",
     "output_type": "stream",
     "text": [
      "R2 Score: 0.8798629933907758\n"
     ]
    },
    {
     "data": {
      "text/plain": [
       "['../model/car_price_model.pkl']"
      ]
     },
     "execution_count": 1,
     "metadata": {},
     "output_type": "execute_result"
    }
   ],
   "source": [
    "import pandas as pd\n",
    "import numpy as np\n",
    "from sklearn.linear_model import LinearRegression\n",
    "from sklearn.model_selection import train_test_split\n",
    "from sklearn.metrics import r2_score\n",
    "import joblib\n",
    "\n",
    "# Load dataset\n",
    "df = pd.read_csv(\"../data/car data.csv\")\n",
    "\n",
    "# Feature Engineering\n",
    "df['Car_Age'] = 2025 - df['Year']\n",
    "df = df[['Present_Price', 'Kms_Driven', 'Owner', 'Car_Age', 'Selling_Price']]\n",
    "\n",
    "# Log-transform if necessary (optional)\n",
    "# df['Kms_Driven'] = np.log1p(df['Kms_Driven'])\n",
    "\n",
    "# Features and label\n",
    "X = df[['Present_Price', 'Kms_Driven', 'Owner', 'Car_Age']]\n",
    "y = df['Selling_Price']\n",
    "\n",
    "# Split\n",
    "X_train, X_test, y_train, y_test = train_test_split(X, y, test_size=0.2, random_state=0)\n",
    "\n",
    "# Train model\n",
    "model = LinearRegression()\n",
    "model.fit(X_train, y_train)\n",
    "\n",
    "# Test\n",
    "y_pred = model.predict(X_test)\n",
    "print(\"R2 Score:\", r2_score(y_test, y_pred))\n",
    "\n",
    "# Save model\n",
    "joblib.dump(model, \"../model/car_price_model.pkl\")\n"
   ]
  }
 ],
 "metadata": {
  "kernelspec": {
   "display_name": "Python 3",
   "language": "python",
   "name": "python3"
  },
  "language_info": {
   "codemirror_mode": {
    "name": "ipython",
    "version": 3
   },
   "file_extension": ".py",
   "mimetype": "text/x-python",
   "name": "python",
   "nbconvert_exporter": "python",
   "pygments_lexer": "ipython3",
   "version": "3.13.5"
  }
 },
 "nbformat": 4,
 "nbformat_minor": 5
}
